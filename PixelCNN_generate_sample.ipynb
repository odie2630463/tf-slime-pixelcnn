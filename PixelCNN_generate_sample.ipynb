{
 "cells": [
  {
   "cell_type": "code",
   "execution_count": 1,
   "metadata": {
    "collapsed": true
   },
   "outputs": [],
   "source": [
    "%matplotlib inline\n",
    "import matplotlib.pyplot as plt\n",
    "import numpy as np\n",
    "import tensorflow as tf\n",
    "from tensorflow.examples.tutorials.mnist import input_data\n",
    "import scipy.misc\n",
    "import os\n",
    "\n",
    "slim = tf.contrib.slim"
   ]
  },
  {
   "cell_type": "code",
   "execution_count": 3,
   "metadata": {
    "collapsed": false
   },
   "outputs": [
    {
     "name": "stdout",
     "output_type": "stream",
     "text": [
      "Extracting MNIST_data/train-images-idx3-ubyte.gz\n",
      "Extracting MNIST_data/train-labels-idx1-ubyte.gz\n",
      "Extracting MNIST_data/t10k-images-idx3-ubyte.gz\n",
      "Extracting MNIST_data/t10k-labels-idx1-ubyte.gz\n"
     ]
    }
   ],
   "source": [
    "mnist = input_data.read_data_sets('MNIST_data', one_hot=True)"
   ]
  },
  {
   "cell_type": "code",
   "execution_count": 2,
   "metadata": {
    "collapsed": true
   },
   "outputs": [],
   "source": [
    "def conv2d_A(inputs,\n",
    "             num_outputs,\n",
    "             kernel_size,\n",
    "             strides=[1,1],\n",
    "             padding='SAME',\n",
    "             activation_fn=None,\n",
    "             weights_regularizer=None,\n",
    "             biases_regularizer=None,\n",
    "             scope=\"conv2d_A\"):\n",
    "    with tf.variable_scope(scope):\n",
    "        batch_size, height, width, num_filters_in = inputs.get_shape().as_list()\n",
    "        kernel_h, kernel_w = kernel_size\n",
    "        stride_h, stride_w = strides\n",
    "        \n",
    "        weights_shape = [kernel_h, kernel_w, num_filters_in, num_outputs]\n",
    "        weights = tf.get_variable('weights',shape=weights_shape,\n",
    "                                            dtype=tf.float32,\n",
    "                                            initializer=tf.contrib.layers.xavier_initializer(),\n",
    "                                            regularizer=weights_regularizer)\n",
    "        \n",
    "        center_h = kernel_h // 2\n",
    "        center_w = kernel_w // 2\n",
    "        mask = np.ones(weights_shape, dtype=np.float32)\n",
    "        mask[center_h, center_w+1: ,: ,:] = 0.\n",
    "        mask[center_h+1:, :, :, :] = 0.\n",
    "        mask[center_h,center_w,:,:] = 0.\n",
    "        \n",
    "        weights *= mask\n",
    "        \n",
    "        outputs = tf.nn.conv2d(inputs, weights, [1, stride_h, stride_w, 1],padding=padding)\n",
    "        \n",
    "        biases = tf.get_variable('biases',shape=[num_outputs,],\n",
    "                                          dtype=tf.float32,\n",
    "                                          initializer=tf.zeros_initializer,\n",
    "                                          regularizer=biases_regularizer)\n",
    "        outputs = tf.nn.bias_add(outputs, biases)\n",
    "        if activation_fn is not None:\n",
    "            outputs = activation_fn(outputs)\n",
    "            \n",
    "        slim.add_model_variable(weights)\n",
    "        slim.add_model_variable(biases)\n",
    "        return outputs"
   ]
  },
  {
   "cell_type": "code",
   "execution_count": 4,
   "metadata": {
    "collapsed": true
   },
   "outputs": [],
   "source": [
    "batch_size, height, width, channel = 100, 28, 28, 1\n",
    "\n",
    "with slim.arg_scope([slim.conv2d], activation_fn=None):\n",
    "    images = tf.placeholder(tf.float32, [batch_size, height, width, channel])\n",
    "    net = conv2d_A(images, 64, [7, 7])\n",
    "    net = slim.repeat(net, 2, slim.conv2d, 3, [1, 1], scope='main_reccurent_layers')\n",
    "    net = slim.repeat(net, 2, slim.conv2d, 64, [1, 1], scope='output_reccurent_layers',activation_fn=tf.nn.relu)\n",
    "    logits = slim.conv2d(net, 1, [1, 1], scope='conv2d_out_logits')\n",
    "\n",
    "outputs = tf.nn.sigmoid(logits)\n",
    "loss = tf.reduce_mean(tf.nn.sigmoid_cross_entropy_with_logits(logits , images))"
   ]
  },
  {
   "cell_type": "code",
   "execution_count": 5,
   "metadata": {
    "collapsed": true
   },
   "outputs": [],
   "source": [
    "optimizer = tf.train.RMSPropOptimizer(1e-3)\n",
    "grads_and_vars = optimizer.compute_gradients(loss)\n",
    "\n",
    "new_grads_and_vars = [(tf.clip_by_value(gv[0], -1, 1), gv[1]) for gv in grads_and_vars]\n",
    "optim = optimizer.apply_gradients(new_grads_and_vars)"
   ]
  },
  {
   "cell_type": "code",
   "execution_count": 6,
   "metadata": {
    "collapsed": true
   },
   "outputs": [],
   "source": [
    "def binarize(images):\n",
    "    return (np.random.uniform(size=images.shape) < images).astype('float32')"
   ]
  },
  {
   "cell_type": "code",
   "execution_count": 7,
   "metadata": {
    "collapsed": true
   },
   "outputs": [],
   "source": [
    "sess = tf.Session()\n",
    "saver = tf.train.Saver()\n",
    "\n",
    "sess.run(tf.initialize_all_variables())\n",
    "saver.restore(sess, \"./model_checkpoint/model.ckpt\")"
   ]
  },
  {
   "cell_type": "code",
   "execution_count": 8,
   "metadata": {
    "collapsed": true
   },
   "outputs": [],
   "source": [
    "def save_images(images, height, width, n_row, n_col,epoch,\n",
    "                cmin=0.0, cmax=1.0, directory=\"./\", prefix=\"sample\"):\n",
    "    images = images.reshape((n_row, n_col, height, width))\n",
    "    images = images.transpose(1, 2, 0, 3)\n",
    "    images = images.reshape((height * n_row, width * n_col))\n",
    "\n",
    "    filename = '%s_%s.jpg' % (prefix,epoch)\n",
    "    scipy.misc.toimage(images, cmin=cmin, cmax=cmax).save(os.path.join(directory, filename))"
   ]
  },
  {
   "cell_type": "code",
   "execution_count": 9,
   "metadata": {
    "collapsed": true
   },
   "outputs": [],
   "source": [
    "batch_images = binarize(mnist.test.next_batch(batch_size)[0].reshape([batch_size, 28, 28, 1]))"
   ]
  },
  {
   "cell_type": "code",
   "execution_count": 10,
   "metadata": {
    "collapsed": true
   },
   "outputs": [],
   "source": [
    "save_images(batch_images,28,28,10,10,1,prefix='partial')"
   ]
  },
  {
   "cell_type": "code",
   "execution_count": null,
   "metadata": {
    "collapsed": true
   },
   "outputs": [],
   "source": []
  },
  {
   "cell_type": "code",
   "execution_count": 11,
   "metadata": {
    "collapsed": true
   },
   "outputs": [],
   "source": [
    "samples = np.copy(batch_images)\n",
    "samples[:,14:,:,:] = 0.\n",
    "\n",
    "for i in xrange(14,28):\n",
    "    for j in xrange(28):\n",
    "        for k in xrange(1):\n",
    "            next_sample = binarize(sess.run(outputs , feed_dict={images: samples}))\n",
    "            samples[:, i, j, k] = next_sample[:, i, j, k]\n",
    "            \n",
    "save_images(samples,28,28,10,10,2,prefix='partial')"
   ]
  },
  {
   "cell_type": "code",
   "execution_count": null,
   "metadata": {
    "collapsed": true
   },
   "outputs": [],
   "source": []
  }
 ],
 "metadata": {
  "kernelspec": {
   "display_name": "Python 2",
   "language": "python",
   "name": "python2"
  },
  "language_info": {
   "codemirror_mode": {
    "name": "ipython",
    "version": 2
   },
   "file_extension": ".py",
   "mimetype": "text/x-python",
   "name": "python",
   "nbconvert_exporter": "python",
   "pygments_lexer": "ipython2",
   "version": "2.7.11"
  }
 },
 "nbformat": 4,
 "nbformat_minor": 0
}
